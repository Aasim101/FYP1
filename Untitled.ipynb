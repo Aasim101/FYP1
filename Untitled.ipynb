{
 "cells": [
  {
   "cell_type": "code",
   "execution_count": 1,
   "id": "2ba2da19-4e82-4d0f-941c-358b6c06433f",
   "metadata": {},
   "outputs": [],
   "source": [
    "import SimpleITK as sitk\n",
    "import glob\n",
    "\n",
    "file_names = glob.glob('/home/fast/Downloads/menin.jpg')\n",
    "reader = sitk.ImageSeriesReader()\n",
    "reader.SetFileNames(file_names)\n",
    "vol = reader.Execute()\n",
    "sitk.WriteImage(vol, 'volume.nii.gz')"
   ]
  },
  {
   "cell_type": "code",
   "execution_count": null,
   "id": "c095c48c-ee0a-4f42-bf13-b5fcf5ebb3f4",
   "metadata": {},
   "outputs": [],
   "source": []
  }
 ],
 "metadata": {
  "kernelspec": {
   "display_name": "Python 3 (ipykernel)",
   "language": "python",
   "name": "python3"
  },
  "language_info": {
   "codemirror_mode": {
    "name": "ipython",
    "version": 3
   },
   "file_extension": ".py",
   "mimetype": "text/x-python",
   "name": "python",
   "nbconvert_exporter": "python",
   "pygments_lexer": "ipython3",
   "version": "3.12.2"
  }
 },
 "nbformat": 4,
 "nbformat_minor": 5
}
